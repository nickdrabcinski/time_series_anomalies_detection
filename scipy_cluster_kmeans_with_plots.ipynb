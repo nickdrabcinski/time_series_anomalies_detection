{
 "cells": [
  {
   "cell_type": "code",
   "execution_count": 1,
   "id": "53810ee1",
   "metadata": {},
   "outputs": [],
   "source": [
    "import numpy as np\n",
    "import pandas as pd\n",
    "import matplotlib.pyplot as plt\n",
    "import seaborn as sns"
   ]
  },
  {
   "cell_type": "code",
   "execution_count": 2,
   "id": "41ba8dda",
   "metadata": {},
   "outputs": [],
   "source": [
    "df = pd.read_csv('data.csv')"
   ]
  },
  {
   "cell_type": "code",
   "execution_count": 3,
   "id": "80f34c4c",
   "metadata": {
    "scrolled": true
   },
   "outputs": [
    {
     "data": {
      "text/html": [
       "<div>\n",
       "<style scoped>\n",
       "    .dataframe tbody tr th:only-of-type {\n",
       "        vertical-align: middle;\n",
       "    }\n",
       "\n",
       "    .dataframe tbody tr th {\n",
       "        vertical-align: top;\n",
       "    }\n",
       "\n",
       "    .dataframe thead th {\n",
       "        text-align: right;\n",
       "    }\n",
       "</style>\n",
       "<table border=\"1\" class=\"dataframe\">\n",
       "  <thead>\n",
       "    <tr style=\"text-align: right;\">\n",
       "      <th></th>\n",
       "      <th>Trader</th>\n",
       "      <th>Asset Name</th>\n",
       "      <th>Status</th>\n",
       "      <th>Trade Type</th>\n",
       "      <th>Payout</th>\n",
       "      <th>Investment</th>\n",
       "      <th>Trader Profit</th>\n",
       "      <th>Trading Strike</th>\n",
       "      <th>Close Strike</th>\n",
       "      <th>Trading Time</th>\n",
       "      <th>Close Time</th>\n",
       "    </tr>\n",
       "  </thead>\n",
       "  <tbody>\n",
       "    <tr>\n",
       "      <th>0</th>\n",
       "      <td>trader C</td>\n",
       "      <td>AUD/USD</td>\n",
       "      <td>Closed</td>\n",
       "      <td>Put</td>\n",
       "      <td>1.85</td>\n",
       "      <td>1000</td>\n",
       "      <td>-1000.000</td>\n",
       "      <td>0.69676</td>\n",
       "      <td>0.69724</td>\n",
       "      <td>2020-06-10 03:00:01.760</td>\n",
       "      <td>2020-06-10 03:05:00.000</td>\n",
       "    </tr>\n",
       "    <tr>\n",
       "      <th>1</th>\n",
       "      <td>trader C</td>\n",
       "      <td>EUR/JPY</td>\n",
       "      <td>Closed</td>\n",
       "      <td>Call</td>\n",
       "      <td>1.85</td>\n",
       "      <td>10000</td>\n",
       "      <td>8500.000</td>\n",
       "      <td>116.35500</td>\n",
       "      <td>116.36400</td>\n",
       "      <td>2020-04-27 02:30:01.370</td>\n",
       "      <td>2020-04-27 02:35:00.000</td>\n",
       "    </tr>\n",
       "    <tr>\n",
       "      <th>2</th>\n",
       "      <td>trader C</td>\n",
       "      <td>EUR/USD</td>\n",
       "      <td>Closed</td>\n",
       "      <td>Call</td>\n",
       "      <td>1.85</td>\n",
       "      <td>5000</td>\n",
       "      <td>-5000.000</td>\n",
       "      <td>1.09412</td>\n",
       "      <td>1.09378</td>\n",
       "      <td>2020-04-15 07:45:01.810</td>\n",
       "      <td>2020-04-15 07:50:00.000</td>\n",
       "    </tr>\n",
       "    <tr>\n",
       "      <th>3</th>\n",
       "      <td>trader C</td>\n",
       "      <td>EUR/JPY</td>\n",
       "      <td>Closed</td>\n",
       "      <td>Call</td>\n",
       "      <td>1.95</td>\n",
       "      <td>1000</td>\n",
       "      <td>950.000</td>\n",
       "      <td>119.69900</td>\n",
       "      <td>119.71600</td>\n",
       "      <td>2019-09-13 18:57:25.390</td>\n",
       "      <td>2019-09-13 18:58:25.390</td>\n",
       "    </tr>\n",
       "    <tr>\n",
       "      <th>4</th>\n",
       "      <td>trader C</td>\n",
       "      <td>EUR/USD</td>\n",
       "      <td>Closed</td>\n",
       "      <td>Put</td>\n",
       "      <td>1.85</td>\n",
       "      <td>1000</td>\n",
       "      <td>-1000.000</td>\n",
       "      <td>1.21202</td>\n",
       "      <td>1.21202</td>\n",
       "      <td>2020-12-03 02:55:00.520</td>\n",
       "      <td>2020-12-03 03:00:00.000</td>\n",
       "    </tr>\n",
       "    <tr>\n",
       "      <th>...</th>\n",
       "      <td>...</td>\n",
       "      <td>...</td>\n",
       "      <td>...</td>\n",
       "      <td>...</td>\n",
       "      <td>...</td>\n",
       "      <td>...</td>\n",
       "      <td>...</td>\n",
       "      <td>...</td>\n",
       "      <td>...</td>\n",
       "      <td>...</td>\n",
       "      <td>...</td>\n",
       "    </tr>\n",
       "    <tr>\n",
       "      <th>3394</th>\n",
       "      <td>trader C</td>\n",
       "      <td>AUD/USD</td>\n",
       "      <td>Closed</td>\n",
       "      <td>Call</td>\n",
       "      <td>1.85</td>\n",
       "      <td>1000</td>\n",
       "      <td>-1000.000</td>\n",
       "      <td>0.76130</td>\n",
       "      <td>0.76091</td>\n",
       "      <td>2021-04-04 23:00:58.950</td>\n",
       "      <td>2021-04-04 23:05:58.950</td>\n",
       "    </tr>\n",
       "    <tr>\n",
       "      <th>3395</th>\n",
       "      <td>trader C</td>\n",
       "      <td>EUR/USD</td>\n",
       "      <td>Closed</td>\n",
       "      <td>Call</td>\n",
       "      <td>1.88</td>\n",
       "      <td>20000</td>\n",
       "      <td>17600.000</td>\n",
       "      <td>1.12285</td>\n",
       "      <td>1.12358</td>\n",
       "      <td>2020-03-06 05:59:58.740</td>\n",
       "      <td>2020-03-06 06:05:00.000</td>\n",
       "    </tr>\n",
       "    <tr>\n",
       "      <th>3396</th>\n",
       "      <td>trader C</td>\n",
       "      <td>NZD/JPY</td>\n",
       "      <td>Closed</td>\n",
       "      <td>Put</td>\n",
       "      <td>1.90</td>\n",
       "      <td>1000</td>\n",
       "      <td>-1000.000</td>\n",
       "      <td>63.70600</td>\n",
       "      <td>63.71300</td>\n",
       "      <td>2020-04-02 01:28:05.140</td>\n",
       "      <td>2020-04-02 01:31:05.140</td>\n",
       "    </tr>\n",
       "    <tr>\n",
       "      <th>3397</th>\n",
       "      <td>trader A</td>\n",
       "      <td>BITCOIN</td>\n",
       "      <td>Sold</td>\n",
       "      <td>Call</td>\n",
       "      <td>2.05</td>\n",
       "      <td>3435</td>\n",
       "      <td>2662.041</td>\n",
       "      <td>32669.30000</td>\n",
       "      <td>32829.60000</td>\n",
       "      <td>2021-06-21 06:37:12.820</td>\n",
       "      <td>2021-06-21 06:38:10.123</td>\n",
       "    </tr>\n",
       "    <tr>\n",
       "      <th>3398</th>\n",
       "      <td>trader C</td>\n",
       "      <td>CHF/JPY</td>\n",
       "      <td>Closed</td>\n",
       "      <td>Call</td>\n",
       "      <td>1.85</td>\n",
       "      <td>1000</td>\n",
       "      <td>850.000</td>\n",
       "      <td>116.46400</td>\n",
       "      <td>116.49500</td>\n",
       "      <td>2020-12-03 17:10:00.630</td>\n",
       "      <td>2020-12-03 17:15:00.000</td>\n",
       "    </tr>\n",
       "  </tbody>\n",
       "</table>\n",
       "<p>3399 rows × 11 columns</p>\n",
       "</div>"
      ],
      "text/plain": [
       "        Trader Asset Name  Status Trade Type  Payout  Investment  \\\n",
       "0     trader C    AUD/USD  Closed        Put    1.85        1000   \n",
       "1     trader C    EUR/JPY  Closed       Call    1.85       10000   \n",
       "2     trader C    EUR/USD  Closed       Call    1.85        5000   \n",
       "3     trader C    EUR/JPY  Closed       Call    1.95        1000   \n",
       "4     trader C    EUR/USD  Closed        Put    1.85        1000   \n",
       "...        ...        ...     ...        ...     ...         ...   \n",
       "3394  trader C    AUD/USD  Closed       Call    1.85        1000   \n",
       "3395  trader C    EUR/USD  Closed       Call    1.88       20000   \n",
       "3396  trader C    NZD/JPY  Closed        Put    1.90        1000   \n",
       "3397  trader A    BITCOIN    Sold       Call    2.05        3435   \n",
       "3398  trader C    CHF/JPY  Closed       Call    1.85        1000   \n",
       "\n",
       "      Trader Profit  Trading Strike  Close Strike             Trading Time  \\\n",
       "0         -1000.000         0.69676       0.69724  2020-06-10 03:00:01.760   \n",
       "1          8500.000       116.35500     116.36400  2020-04-27 02:30:01.370   \n",
       "2         -5000.000         1.09412       1.09378  2020-04-15 07:45:01.810   \n",
       "3           950.000       119.69900     119.71600  2019-09-13 18:57:25.390   \n",
       "4         -1000.000         1.21202       1.21202  2020-12-03 02:55:00.520   \n",
       "...             ...             ...           ...                      ...   \n",
       "3394      -1000.000         0.76130       0.76091  2021-04-04 23:00:58.950   \n",
       "3395      17600.000         1.12285       1.12358  2020-03-06 05:59:58.740   \n",
       "3396      -1000.000        63.70600      63.71300  2020-04-02 01:28:05.140   \n",
       "3397       2662.041     32669.30000   32829.60000  2021-06-21 06:37:12.820   \n",
       "3398        850.000       116.46400     116.49500  2020-12-03 17:10:00.630   \n",
       "\n",
       "                   Close Time  \n",
       "0     2020-06-10 03:05:00.000  \n",
       "1     2020-04-27 02:35:00.000  \n",
       "2     2020-04-15 07:50:00.000  \n",
       "3     2019-09-13 18:58:25.390  \n",
       "4     2020-12-03 03:00:00.000  \n",
       "...                       ...  \n",
       "3394  2021-04-04 23:05:58.950  \n",
       "3395  2020-03-06 06:05:00.000  \n",
       "3396  2020-04-02 01:31:05.140  \n",
       "3397  2021-06-21 06:38:10.123  \n",
       "3398  2020-12-03 17:15:00.000  \n",
       "\n",
       "[3399 rows x 11 columns]"
      ]
     },
     "execution_count": 3,
     "metadata": {},
     "output_type": "execute_result"
    }
   ],
   "source": [
    "df"
   ]
  },
  {
   "cell_type": "code",
   "execution_count": 4,
   "id": "78ccbb64",
   "metadata": {},
   "outputs": [],
   "source": [
    "#sns.lineplot(x=, y=, data = df)\n",
    "#plt.show()"
   ]
  },
  {
   "cell_type": "code",
   "execution_count": 5,
   "id": "c1e8a2ac",
   "metadata": {},
   "outputs": [],
   "source": [
    "dfa = df[df['Trader'] == 'trader A']\n",
    "dfb = df[df['Trader'] == 'trader B'] \n",
    "dfc = df[df['Trader'] == 'trader C']\n",
    "dfe = df[df['Trader'] == 'trader E']"
   ]
  },
  {
   "cell_type": "code",
   "execution_count": 6,
   "id": "6a3cb641",
   "metadata": {},
   "outputs": [],
   "source": [
    "df = df.drop(['Trader','Asset Name', 'Trading Time', 'Close Time'], axis=1)"
   ]
  },
  {
   "cell_type": "code",
   "execution_count": 7,
   "id": "4d85831a",
   "metadata": {},
   "outputs": [],
   "source": [
    "df['Status'].replace(['Closed', 'Sold'], [0,1], inplace=True)\n",
    "df['Trade Type'].replace(['Call', 'Put'], [0,1], inplace=True)"
   ]
  },
  {
   "cell_type": "code",
   "execution_count": 8,
   "id": "4799fa3a",
   "metadata": {
    "scrolled": true
   },
   "outputs": [
    {
     "data": {
      "text/html": [
       "<div>\n",
       "<style scoped>\n",
       "    .dataframe tbody tr th:only-of-type {\n",
       "        vertical-align: middle;\n",
       "    }\n",
       "\n",
       "    .dataframe tbody tr th {\n",
       "        vertical-align: top;\n",
       "    }\n",
       "\n",
       "    .dataframe thead th {\n",
       "        text-align: right;\n",
       "    }\n",
       "</style>\n",
       "<table border=\"1\" class=\"dataframe\">\n",
       "  <thead>\n",
       "    <tr style=\"text-align: right;\">\n",
       "      <th></th>\n",
       "      <th>Status</th>\n",
       "      <th>Trade Type</th>\n",
       "      <th>Payout</th>\n",
       "      <th>Investment</th>\n",
       "      <th>Trader Profit</th>\n",
       "      <th>Trading Strike</th>\n",
       "      <th>Close Strike</th>\n",
       "    </tr>\n",
       "  </thead>\n",
       "  <tbody>\n",
       "    <tr>\n",
       "      <th>0</th>\n",
       "      <td>0</td>\n",
       "      <td>1</td>\n",
       "      <td>1.85</td>\n",
       "      <td>1000</td>\n",
       "      <td>-1000.000</td>\n",
       "      <td>0.69676</td>\n",
       "      <td>0.69724</td>\n",
       "    </tr>\n",
       "    <tr>\n",
       "      <th>1</th>\n",
       "      <td>0</td>\n",
       "      <td>0</td>\n",
       "      <td>1.85</td>\n",
       "      <td>10000</td>\n",
       "      <td>8500.000</td>\n",
       "      <td>116.35500</td>\n",
       "      <td>116.36400</td>\n",
       "    </tr>\n",
       "    <tr>\n",
       "      <th>2</th>\n",
       "      <td>0</td>\n",
       "      <td>0</td>\n",
       "      <td>1.85</td>\n",
       "      <td>5000</td>\n",
       "      <td>-5000.000</td>\n",
       "      <td>1.09412</td>\n",
       "      <td>1.09378</td>\n",
       "    </tr>\n",
       "    <tr>\n",
       "      <th>3</th>\n",
       "      <td>0</td>\n",
       "      <td>0</td>\n",
       "      <td>1.95</td>\n",
       "      <td>1000</td>\n",
       "      <td>950.000</td>\n",
       "      <td>119.69900</td>\n",
       "      <td>119.71600</td>\n",
       "    </tr>\n",
       "    <tr>\n",
       "      <th>4</th>\n",
       "      <td>0</td>\n",
       "      <td>1</td>\n",
       "      <td>1.85</td>\n",
       "      <td>1000</td>\n",
       "      <td>-1000.000</td>\n",
       "      <td>1.21202</td>\n",
       "      <td>1.21202</td>\n",
       "    </tr>\n",
       "    <tr>\n",
       "      <th>...</th>\n",
       "      <td>...</td>\n",
       "      <td>...</td>\n",
       "      <td>...</td>\n",
       "      <td>...</td>\n",
       "      <td>...</td>\n",
       "      <td>...</td>\n",
       "      <td>...</td>\n",
       "    </tr>\n",
       "    <tr>\n",
       "      <th>3394</th>\n",
       "      <td>0</td>\n",
       "      <td>0</td>\n",
       "      <td>1.85</td>\n",
       "      <td>1000</td>\n",
       "      <td>-1000.000</td>\n",
       "      <td>0.76130</td>\n",
       "      <td>0.76091</td>\n",
       "    </tr>\n",
       "    <tr>\n",
       "      <th>3395</th>\n",
       "      <td>0</td>\n",
       "      <td>0</td>\n",
       "      <td>1.88</td>\n",
       "      <td>20000</td>\n",
       "      <td>17600.000</td>\n",
       "      <td>1.12285</td>\n",
       "      <td>1.12358</td>\n",
       "    </tr>\n",
       "    <tr>\n",
       "      <th>3396</th>\n",
       "      <td>0</td>\n",
       "      <td>1</td>\n",
       "      <td>1.90</td>\n",
       "      <td>1000</td>\n",
       "      <td>-1000.000</td>\n",
       "      <td>63.70600</td>\n",
       "      <td>63.71300</td>\n",
       "    </tr>\n",
       "    <tr>\n",
       "      <th>3397</th>\n",
       "      <td>1</td>\n",
       "      <td>0</td>\n",
       "      <td>2.05</td>\n",
       "      <td>3435</td>\n",
       "      <td>2662.041</td>\n",
       "      <td>32669.30000</td>\n",
       "      <td>32829.60000</td>\n",
       "    </tr>\n",
       "    <tr>\n",
       "      <th>3398</th>\n",
       "      <td>0</td>\n",
       "      <td>0</td>\n",
       "      <td>1.85</td>\n",
       "      <td>1000</td>\n",
       "      <td>850.000</td>\n",
       "      <td>116.46400</td>\n",
       "      <td>116.49500</td>\n",
       "    </tr>\n",
       "  </tbody>\n",
       "</table>\n",
       "<p>3399 rows × 7 columns</p>\n",
       "</div>"
      ],
      "text/plain": [
       "      Status  Trade Type  Payout  Investment  Trader Profit  Trading Strike  \\\n",
       "0          0           1    1.85        1000      -1000.000         0.69676   \n",
       "1          0           0    1.85       10000       8500.000       116.35500   \n",
       "2          0           0    1.85        5000      -5000.000         1.09412   \n",
       "3          0           0    1.95        1000        950.000       119.69900   \n",
       "4          0           1    1.85        1000      -1000.000         1.21202   \n",
       "...      ...         ...     ...         ...            ...             ...   \n",
       "3394       0           0    1.85        1000      -1000.000         0.76130   \n",
       "3395       0           0    1.88       20000      17600.000         1.12285   \n",
       "3396       0           1    1.90        1000      -1000.000        63.70600   \n",
       "3397       1           0    2.05        3435       2662.041     32669.30000   \n",
       "3398       0           0    1.85        1000        850.000       116.46400   \n",
       "\n",
       "      Close Strike  \n",
       "0          0.69724  \n",
       "1        116.36400  \n",
       "2          1.09378  \n",
       "3        119.71600  \n",
       "4          1.21202  \n",
       "...            ...  \n",
       "3394       0.76091  \n",
       "3395       1.12358  \n",
       "3396      63.71300  \n",
       "3397   32829.60000  \n",
       "3398     116.49500  \n",
       "\n",
       "[3399 rows x 7 columns]"
      ]
     },
     "execution_count": 8,
     "metadata": {},
     "output_type": "execute_result"
    }
   ],
   "source": [
    "df"
   ]
  },
  {
   "cell_type": "code",
   "execution_count": null,
   "id": "d3d3bd05",
   "metadata": {},
   "outputs": [],
   "source": []
  },
  {
   "cell_type": "code",
   "execution_count": 9,
   "id": "14a4a6cf",
   "metadata": {},
   "outputs": [],
   "source": [
    "invest_raw_a = dfa['Investment'].values\n",
    "invest_raw_b = dfb['Investment'].values\n",
    "invest_raw_c = dfc['Investment'].values\n",
    "invest_raw_e = dfe['Investment'].values"
   ]
  },
  {
   "cell_type": "code",
   "execution_count": 10,
   "id": "0421d94f",
   "metadata": {},
   "outputs": [],
   "source": [
    "invest_raw_a = invest_raw_a.reshape(-1, 1)\n",
    "invest_raw_a = invest_raw_a.astype('float64')\n",
    "\n",
    "invest_raw_b = invest_raw_b.reshape(-1, 1)\n",
    "invest_raw_b = invest_raw_b.astype('float64')\n",
    "\n",
    "invest_raw_c = invest_raw_c.reshape(-1, 1)\n",
    "invest_raw_c = invest_raw_c.astype('float64')\n",
    "\n",
    "invest_raw_e = invest_raw_e.reshape(-1, 1)\n",
    "invest_raw_e = invest_raw_e.astype('float64')"
   ]
  },
  {
   "cell_type": "code",
   "execution_count": 11,
   "id": "a34af2de",
   "metadata": {},
   "outputs": [],
   "source": [
    "from scipy import cluster\n",
    "from scipy.cluster.vq import kmeans"
   ]
  },
  {
   "cell_type": "code",
   "execution_count": 12,
   "id": "49c610d0",
   "metadata": {},
   "outputs": [],
   "source": [
    "centroids_a, avg_distance_a = kmeans(invest_raw_a, 2)\n",
    "centroids_b, avg_distance_b = kmeans(invest_raw_b, 2)\n",
    "centroids_c, avg_distance_c = kmeans(invest_raw_c, 2)\n",
    "centroids_e, avg_distance_e = kmeans(invest_raw_e, 2)"
   ]
  },
  {
   "cell_type": "code",
   "execution_count": 13,
   "id": "a5bb3e54",
   "metadata": {},
   "outputs": [],
   "source": [
    "groups_a, cdist_a = cluster.vq.vq(invest_raw_a, centroids_a)\n",
    "groups_b, cdist_b = cluster.vq.vq(invest_raw_b, centroids_b)\n",
    "groups_c, cdist_c = cluster.vq.vq(invest_raw_c, centroids_c)\n",
    "groups_e, cdist_e = cluster.vq.vq(invest_raw_e, centroids_e)"
   ]
  },
  {
   "cell_type": "code",
   "execution_count": 14,
   "id": "4181726d",
   "metadata": {},
   "outputs": [
    {
     "data": {
      "text/plain": [
       "<matplotlib.collections.PathCollection at 0x2610e304df0>"
      ]
     },
     "execution_count": 14,
     "metadata": {},
     "output_type": "execute_result"
    },
    {
     "data": {
      "image/png": "[encoded data removed]",
      "text/plain": [
       "<Figure size 432x288 with 1 Axes>"
      ]
     },
     "metadata": {
      "needs_background": "light"
     },
     "output_type": "display_data"
    }
   ],
   "source": [
    "plt.scatter(invest_raw_a, np.arange(0,len(invest_raw_a)), c=groups_a)\n",
    "#plt.scatter(invest_raw_b, np.arange(0,len(invest_raw_b)), c=groups_b)\n",
    "#plt.scatter(invest_raw_c, np.arange(0,len(invest_raw_c)), c=groups_c)\n",
    "#plt.scatter(invest_raw_e, np.arange(0,len(invest_raw_e)), c=groups_e)"
   ]
  },
  {
   "cell_type": "code",
   "execution_count": 15,
   "id": "956a0763",
   "metadata": {},
   "outputs": [
    {
     "data": {
      "text/plain": [
       "<matplotlib.collections.PathCollection at 0x2610eb12a60>"
      ]
     },
     "execution_count": 15,
     "metadata": {},
     "output_type": "execute_result"
    },
    {
     "data": {
      "image/png": "[encoded data removed]",
      "text/plain": [
       "<Figure size 432x288 with 1 Axes>"
      ]
     },
     "metadata": {
      "needs_background": "light"
     },
     "output_type": "display_data"
    }
   ],
   "source": [
    "plt.scatter(invest_raw_b, np.arange(0,len(invest_raw_b)), c=groups_b)"
   ]
  },
  {
   "cell_type": "code",
   "execution_count": 16,
   "id": "774c7353",
   "metadata": {},
   "outputs": [
    {
     "data": {
      "text/plain": [
       "<matplotlib.collections.PathCollection at 0x2610eb8f3a0>"
      ]
     },
     "execution_count": 16,
     "metadata": {},
     "output_type": "execute_result"
    },
    {
     "data": {
      "image/png": "[encoded data removed]",
      "text/plain": [
       "<Figure size 432x288 with 1 Axes>"
      ]
     },
     "metadata": {
      "needs_background": "light"
     },
     "output_type": "display_data"
    }
   ],
   "source": [
    "plt.scatter(invest_raw_c, np.arange(0,len(invest_raw_c)), c=groups_c)"
   ]
  },
  {
   "cell_type": "code",
   "execution_count": 17,
   "id": "fc6837e5",
   "metadata": {},
   "outputs": [
    {
     "data": {
      "text/plain": [
       "<matplotlib.collections.PathCollection at 0x2610ebeae80>"
      ]
     },
     "execution_count": 17,
     "metadata": {},
     "output_type": "execute_result"
    },
    {
     "data": {
      "image/png": "[encoded data removed]",
      "text/plain": [
       "<Figure size 432x288 with 1 Axes>"
      ]
     },
     "metadata": {
      "needs_background": "light"
     },
     "output_type": "display_data"
    }
   ],
   "source": [
    "plt.scatter(invest_raw_e, np.arange(0,len(invest_raw_e)), c=groups_e)"
   ]
  },
  {
   "cell_type": "code",
   "execution_count": null,
   "id": "3df71cf1",
   "metadata": {},
   "outputs": [],
   "source": []
  },
  {
   "cell_type": "code",
   "execution_count": 18,
   "id": "5faf7be7",
   "metadata": {},
   "outputs": [],
   "source": [
    "# sns.heatmap(df.corr(), annot=True)"
   ]
  },
  {
   "cell_type": "code",
   "execution_count": null,
   "id": "8611c5b8",
   "metadata": {},
   "outputs": [],
   "source": []
  }
 ],
 "metadata": {
  "kernelspec": {
   "display_name": "Python 3 (ipykernel)",
   "language": "python",
   "name": "python3"
  },
  "language_info": {
   "codemirror_mode": {
    "name": "ipython",
    "version": 3
   },
   "file_extension": ".py",
   "mimetype": "text/x-python",
   "name": "python",
   "nbconvert_exporter": "python",
   "pygments_lexer": "ipython3",
   "version": "3.9.12"
  }
 },
 "nbformat": 4,
 "nbformat_minor": 5
}
